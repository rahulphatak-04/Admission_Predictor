{
 "cells": [
  {
   "cell_type": "code",
   "execution_count": 23,
   "id": "f52884ca",
   "metadata": {},
   "outputs": [],
   "source": [
    "import pandas as pd\n",
    "import numpy as np"
   ]
  },
  {
   "cell_type": "code",
   "execution_count": 24,
   "id": "04ea7295",
   "metadata": {},
   "outputs": [
    {
     "data": {
      "text/html": [
       "<div>\n",
       "<style scoped>\n",
       "    .dataframe tbody tr th:only-of-type {\n",
       "        vertical-align: middle;\n",
       "    }\n",
       "\n",
       "    .dataframe tbody tr th {\n",
       "        vertical-align: top;\n",
       "    }\n",
       "\n",
       "    .dataframe thead th {\n",
       "        text-align: right;\n",
       "    }\n",
       "</style>\n",
       "<table border=\"1\" class=\"dataframe\">\n",
       "  <thead>\n",
       "    <tr style=\"text-align: right;\">\n",
       "      <th></th>\n",
       "      <th>marks</th>\n",
       "      <th>year</th>\n",
       "      <th>caste</th>\n",
       "      <th>list</th>\n",
       "      <th>College</th>\n",
       "      <th>cutoff</th>\n",
       "      <th>result</th>\n",
       "    </tr>\n",
       "  </thead>\n",
       "  <tbody>\n",
       "    <tr>\n",
       "      <th>0</th>\n",
       "      <td>42</td>\n",
       "      <td>2021</td>\n",
       "      <td>NT-C</td>\n",
       "      <td>1st</td>\n",
       "      <td>D.G.Ruparel</td>\n",
       "      <td>77</td>\n",
       "      <td>0</td>\n",
       "    </tr>\n",
       "    <tr>\n",
       "      <th>1</th>\n",
       "      <td>62</td>\n",
       "      <td>2021</td>\n",
       "      <td>SC</td>\n",
       "      <td>1st</td>\n",
       "      <td>D.G.Ruparel</td>\n",
       "      <td>44</td>\n",
       "      <td>1</td>\n",
       "    </tr>\n",
       "    <tr>\n",
       "      <th>2</th>\n",
       "      <td>64</td>\n",
       "      <td>2021</td>\n",
       "      <td>Open</td>\n",
       "      <td>1st</td>\n",
       "      <td>D.G.Ruparel</td>\n",
       "      <td>85</td>\n",
       "      <td>0</td>\n",
       "    </tr>\n",
       "    <tr>\n",
       "      <th>3</th>\n",
       "      <td>45</td>\n",
       "      <td>2021</td>\n",
       "      <td>NT-B</td>\n",
       "      <td>1st</td>\n",
       "      <td>D.G.Ruparel</td>\n",
       "      <td>60</td>\n",
       "      <td>0</td>\n",
       "    </tr>\n",
       "    <tr>\n",
       "      <th>4</th>\n",
       "      <td>99</td>\n",
       "      <td>2021</td>\n",
       "      <td>NT-C</td>\n",
       "      <td>1st</td>\n",
       "      <td>D.G.Ruparel</td>\n",
       "      <td>77</td>\n",
       "      <td>1</td>\n",
       "    </tr>\n",
       "    <tr>\n",
       "      <th>...</th>\n",
       "      <td>...</td>\n",
       "      <td>...</td>\n",
       "      <td>...</td>\n",
       "      <td>...</td>\n",
       "      <td>...</td>\n",
       "      <td>...</td>\n",
       "      <td>...</td>\n",
       "    </tr>\n",
       "    <tr>\n",
       "      <th>14509</th>\n",
       "      <td>90</td>\n",
       "      <td>2019</td>\n",
       "      <td>Sindhi</td>\n",
       "      <td>3rd</td>\n",
       "      <td>Hinduja</td>\n",
       "      <td>50</td>\n",
       "      <td>1</td>\n",
       "    </tr>\n",
       "    <tr>\n",
       "      <th>14510</th>\n",
       "      <td>42</td>\n",
       "      <td>2019</td>\n",
       "      <td>Sindhi</td>\n",
       "      <td>3rd</td>\n",
       "      <td>Hinduja</td>\n",
       "      <td>50</td>\n",
       "      <td>0</td>\n",
       "    </tr>\n",
       "    <tr>\n",
       "      <th>14511</th>\n",
       "      <td>67</td>\n",
       "      <td>2019</td>\n",
       "      <td>Sindhi</td>\n",
       "      <td>3rd</td>\n",
       "      <td>Hinduja</td>\n",
       "      <td>50</td>\n",
       "      <td>1</td>\n",
       "    </tr>\n",
       "    <tr>\n",
       "      <th>14512</th>\n",
       "      <td>58</td>\n",
       "      <td>2019</td>\n",
       "      <td>Sindhi</td>\n",
       "      <td>3rd</td>\n",
       "      <td>Hinduja</td>\n",
       "      <td>50</td>\n",
       "      <td>1</td>\n",
       "    </tr>\n",
       "    <tr>\n",
       "      <th>14513</th>\n",
       "      <td>35</td>\n",
       "      <td>2019</td>\n",
       "      <td>Sindhi</td>\n",
       "      <td>3rd</td>\n",
       "      <td>Hinduja</td>\n",
       "      <td>50</td>\n",
       "      <td>0</td>\n",
       "    </tr>\n",
       "  </tbody>\n",
       "</table>\n",
       "<p>14514 rows × 7 columns</p>\n",
       "</div>"
      ],
      "text/plain": [
       "       marks  year   caste list      College  cutoff  result\n",
       "0         42  2021    NT-C  1st  D.G.Ruparel      77       0\n",
       "1         62  2021      SC  1st  D.G.Ruparel      44       1\n",
       "2         64  2021    Open  1st  D.G.Ruparel      85       0\n",
       "3         45  2021    NT-B  1st  D.G.Ruparel      60       0\n",
       "4         99  2021    NT-C  1st  D.G.Ruparel      77       1\n",
       "...      ...   ...     ...  ...          ...     ...     ...\n",
       "14509     90  2019  Sindhi  3rd      Hinduja      50       1\n",
       "14510     42  2019  Sindhi  3rd      Hinduja      50       0\n",
       "14511     67  2019  Sindhi  3rd      Hinduja      50       1\n",
       "14512     58  2019  Sindhi  3rd      Hinduja      50       1\n",
       "14513     35  2019  Sindhi  3rd      Hinduja      50       0\n",
       "\n",
       "[14514 rows x 7 columns]"
      ]
     },
     "execution_count": 24,
     "metadata": {},
     "output_type": "execute_result"
    }
   ],
   "source": [
    "df = pd.read_csv(\"5colleges.csv\")\n",
    "df"
   ]
  },
  {
   "cell_type": "code",
   "execution_count": 25,
   "id": "d6392d90",
   "metadata": {},
   "outputs": [],
   "source": [
    "df.dropna(inplace=True)"
   ]
  },
  {
   "cell_type": "code",
   "execution_count": 26,
   "id": "46f6105e",
   "metadata": {},
   "outputs": [],
   "source": [
    "df.drop(columns=['cutoff'],inplace=True)"
   ]
  },
  {
   "cell_type": "code",
   "execution_count": 27,
   "id": "4ea1c62f",
   "metadata": {},
   "outputs": [],
   "source": [
    "fst_df = df[df['list']=='1st']\n",
    "snd_df = df[df['list']=='2nd']\n",
    "trd_df = df[df['list']=='3rd']"
   ]
  },
  {
   "cell_type": "code",
   "execution_count": 28,
   "id": "fef76dcf",
   "metadata": {},
   "outputs": [],
   "source": [
    "fst_df = fst_df.sample(fst_df.shape[0])\n",
    "snd_df = snd_df.sample(snd_df.shape[0])\n",
    "trd_df = trd_df.sample(trd_df.shape[0])"
   ]
  },
  {
   "cell_type": "code",
   "execution_count": 29,
   "id": "ab81912e",
   "metadata": {},
   "outputs": [
    {
     "data": {
      "text/html": [
       "<div>\n",
       "<style scoped>\n",
       "    .dataframe tbody tr th:only-of-type {\n",
       "        vertical-align: middle;\n",
       "    }\n",
       "\n",
       "    .dataframe tbody tr th {\n",
       "        vertical-align: top;\n",
       "    }\n",
       "\n",
       "    .dataframe thead th {\n",
       "        text-align: right;\n",
       "    }\n",
       "</style>\n",
       "<table border=\"1\" class=\"dataframe\">\n",
       "  <thead>\n",
       "    <tr style=\"text-align: right;\">\n",
       "      <th></th>\n",
       "      <th>marks</th>\n",
       "      <th>year</th>\n",
       "      <th>caste</th>\n",
       "      <th>list</th>\n",
       "      <th>College</th>\n",
       "      <th>result</th>\n",
       "    </tr>\n",
       "  </thead>\n",
       "  <tbody>\n",
       "    <tr>\n",
       "      <th>11226</th>\n",
       "      <td>83</td>\n",
       "      <td>2021</td>\n",
       "      <td>Sindhi</td>\n",
       "      <td>1st</td>\n",
       "      <td>Hinduja</td>\n",
       "      <td>1</td>\n",
       "    </tr>\n",
       "    <tr>\n",
       "      <th>7719</th>\n",
       "      <td>62</td>\n",
       "      <td>2021</td>\n",
       "      <td>Sindhi</td>\n",
       "      <td>1st</td>\n",
       "      <td>KC</td>\n",
       "      <td>0</td>\n",
       "    </tr>\n",
       "  </tbody>\n",
       "</table>\n",
       "</div>"
      ],
      "text/plain": [
       "       marks  year   caste list  College  result\n",
       "11226     83  2021  Sindhi  1st  Hinduja       1\n",
       "7719      62  2021  Sindhi  1st       KC       0"
      ]
     },
     "execution_count": 29,
     "metadata": {},
     "output_type": "execute_result"
    }
   ],
   "source": [
    "fst_df.sample(2)"
   ]
  },
  {
   "cell_type": "code",
   "execution_count": 30,
   "id": "6dfd22bc",
   "metadata": {},
   "outputs": [],
   "source": [
    "fst_df.drop(columns=['year','list'],inplace=True)\n",
    "snd_df.drop(columns=['year','list'],inplace=True)\n",
    "trd_df.drop(columns=['year','list'],inplace=True)"
   ]
  },
  {
   "cell_type": "code",
   "execution_count": 31,
   "id": "7acdd476",
   "metadata": {},
   "outputs": [],
   "source": [
    "fst_df['result'] = fst_df['result'].astype(int)\n",
    "snd_df['result'] = snd_df['result'].astype(int)\n",
    "trd_df['result'] = trd_df['result'].astype(int)"
   ]
  },
  {
   "cell_type": "code",
   "execution_count": 32,
   "id": "f55c4f59",
   "metadata": {},
   "outputs": [],
   "source": [
    "x1 = fst_df.drop(columns=['result'])\n",
    "y1 = fst_df['result']\n",
    "x2 = snd_df.drop(columns=['result'])\n",
    "y2 = snd_df['result']\n",
    "x3 = trd_df.drop(columns=['result'])\n",
    "y3 = trd_df['result']"
   ]
  },
  {
   "cell_type": "code",
   "execution_count": 33,
   "id": "042cb6df",
   "metadata": {},
   "outputs": [],
   "source": [
    "from sklearn.model_selection import train_test_split\n",
    "x_train_1,x_test_1,y_train_1,y_test_1 = train_test_split(x1,y1,test_size=0.2,random_state=0)\n",
    "x_train_2,x_test_2,y_train_2,y_test_2 = train_test_split(x2,y2,test_size=0.2,random_state=0)\n",
    "x_train_3,x_test_3,y_train_3,y_test_3 = train_test_split(x3,y3,test_size=0.2,random_state=0)"
   ]
  },
  {
   "cell_type": "code",
   "execution_count": 34,
   "id": "0420a79f",
   "metadata": {},
   "outputs": [],
   "source": [
    "from sklearn.compose import ColumnTransformer\n",
    "from sklearn.preprocessing import OneHotEncoder\n",
    "from sklearn.pipeline import Pipeline\n",
    "from sklearn.linear_model import LogisticRegression"
   ]
  },
  {
   "cell_type": "code",
   "execution_count": 35,
   "id": "c42bf6cb",
   "metadata": {},
   "outputs": [],
   "source": [
    "trf = ColumnTransformer([\n",
    "    ('trf',OneHotEncoder(sparse=False,drop='first'),['caste','College'])\n",
    "]\n",
    ",remainder='passthrough')"
   ]
  },
  {
   "cell_type": "code",
   "execution_count": 36,
   "id": "833d5ae1",
   "metadata": {},
   "outputs": [],
   "source": [
    "pipe1 = Pipeline(steps=[\n",
    "    ('step1',trf),\n",
    "    ('step2',LogisticRegression())\n",
    "])\n",
    "pipe2 = Pipeline(steps=[\n",
    "    ('step1',trf),\n",
    "    ('step2',LogisticRegression())\n",
    "])\n",
    "pipe3 = Pipeline(steps=[\n",
    "    ('step1',trf),\n",
    "    ('step2',LogisticRegression())\n",
    "])"
   ]
  },
  {
   "cell_type": "code",
   "execution_count": 37,
   "id": "abb93b90",
   "metadata": {},
   "outputs": [
    {
     "name": "stderr",
     "output_type": "stream",
     "text": [
      "C:\\Users\\RAHUL\\anaconda3\\lib\\site-packages\\sklearn\\linear_model\\_logistic.py:763: ConvergenceWarning: lbfgs failed to converge (status=1):\n",
      "STOP: TOTAL NO. of ITERATIONS REACHED LIMIT.\n",
      "\n",
      "Increase the number of iterations (max_iter) or scale the data as shown in:\n",
      "    https://scikit-learn.org/stable/modules/preprocessing.html\n",
      "Please also refer to the documentation for alternative solver options:\n",
      "    https://scikit-learn.org/stable/modules/linear_model.html#logistic-regression\n",
      "  n_iter_i = _check_optimize_result(\n"
     ]
    },
    {
     "data": {
      "text/plain": [
       "Pipeline(steps=[('step1',\n",
       "                 ColumnTransformer(remainder='passthrough',\n",
       "                                   transformers=[('trf',\n",
       "                                                  OneHotEncoder(drop='first',\n",
       "                                                                sparse=False),\n",
       "                                                  ['caste', 'College'])])),\n",
       "                ('step2', LogisticRegression())])"
      ]
     },
     "execution_count": 37,
     "metadata": {},
     "output_type": "execute_result"
    }
   ],
   "source": [
    "pipe1.fit(x_train_1,y_train_1)"
   ]
  },
  {
   "cell_type": "code",
   "execution_count": 38,
   "id": "93319648",
   "metadata": {},
   "outputs": [
    {
     "name": "stderr",
     "output_type": "stream",
     "text": [
      "C:\\Users\\RAHUL\\anaconda3\\lib\\site-packages\\sklearn\\linear_model\\_logistic.py:763: ConvergenceWarning: lbfgs failed to converge (status=1):\n",
      "STOP: TOTAL NO. of ITERATIONS REACHED LIMIT.\n",
      "\n",
      "Increase the number of iterations (max_iter) or scale the data as shown in:\n",
      "    https://scikit-learn.org/stable/modules/preprocessing.html\n",
      "Please also refer to the documentation for alternative solver options:\n",
      "    https://scikit-learn.org/stable/modules/linear_model.html#logistic-regression\n",
      "  n_iter_i = _check_optimize_result(\n"
     ]
    },
    {
     "data": {
      "text/plain": [
       "Pipeline(steps=[('step1',\n",
       "                 ColumnTransformer(remainder='passthrough',\n",
       "                                   transformers=[('trf',\n",
       "                                                  OneHotEncoder(drop='first',\n",
       "                                                                sparse=False),\n",
       "                                                  ['caste', 'College'])])),\n",
       "                ('step2', LogisticRegression())])"
      ]
     },
     "execution_count": 38,
     "metadata": {},
     "output_type": "execute_result"
    }
   ],
   "source": [
    "pipe2.fit(x_train_2,y_train_2)"
   ]
  },
  {
   "cell_type": "code",
   "execution_count": 39,
   "id": "25829150",
   "metadata": {},
   "outputs": [
    {
     "name": "stderr",
     "output_type": "stream",
     "text": [
      "C:\\Users\\RAHUL\\anaconda3\\lib\\site-packages\\sklearn\\linear_model\\_logistic.py:763: ConvergenceWarning: lbfgs failed to converge (status=1):\n",
      "STOP: TOTAL NO. of ITERATIONS REACHED LIMIT.\n",
      "\n",
      "Increase the number of iterations (max_iter) or scale the data as shown in:\n",
      "    https://scikit-learn.org/stable/modules/preprocessing.html\n",
      "Please also refer to the documentation for alternative solver options:\n",
      "    https://scikit-learn.org/stable/modules/linear_model.html#logistic-regression\n",
      "  n_iter_i = _check_optimize_result(\n"
     ]
    },
    {
     "data": {
      "text/plain": [
       "Pipeline(steps=[('step1',\n",
       "                 ColumnTransformer(remainder='passthrough',\n",
       "                                   transformers=[('trf',\n",
       "                                                  OneHotEncoder(drop='first',\n",
       "                                                                sparse=False),\n",
       "                                                  ['caste', 'College'])])),\n",
       "                ('step2', LogisticRegression())])"
      ]
     },
     "execution_count": 39,
     "metadata": {},
     "output_type": "execute_result"
    }
   ],
   "source": [
    "pipe3.fit(x_train_3,y_train_3)"
   ]
  },
  {
   "cell_type": "code",
   "execution_count": 40,
   "id": "791f4902",
   "metadata": {},
   "outputs": [],
   "source": [
    "def predict_admission(college,caste,marks):\n",
    "    proba1 = pipe1.predict_proba(pd.DataFrame({'marks':[marks],'caste':[caste],'College':[college]}))\n",
    "    proba2 = pipe2.predict_proba(pd.DataFrame({'marks':[marks],'caste':[caste],'College':[college]}))\n",
    "    proba3 = pipe3.predict_proba(pd.DataFrame({'marks':[marks],'caste':[caste],'College':[college]}))\n",
    "    get_per1 = proba1[0][1]\n",
    "    get_per2 = proba2[0][1]\n",
    "    get_per3 = proba3[0][1]\n",
    "    x = 'Chances for getting admission in 1st cut-off is {} %'.format(get_per1*100)\n",
    "    y = 'Chances for getting admission in 2nd cut-off is {} %'.format(get_per2*100)\n",
    "    z = 'Chances for getting admission in 3rd cut-off is {} %'.format(get_per3*100)\n",
    "    return x,y,z"
   ]
  },
  {
   "cell_type": "code",
   "execution_count": 41,
   "id": "ac80f85e",
   "metadata": {},
   "outputs": [
    {
     "data": {
      "text/plain": [
       "('Chances for getting admission in 1st cut-off is 83.7744608747837 %',\n",
       " 'Chances for getting admission in 2nd cut-off is 95.63101199573686 %',\n",
       " 'Chances for getting admission in 3rd cut-off is 98.45531863652135 %')"
      ]
     },
     "execution_count": 41,
     "metadata": {},
     "output_type": "execute_result"
    }
   ],
   "source": [
    "predict_admission('Wilson','Open',84)"
   ]
  },
  {
   "cell_type": "code",
   "execution_count": 42,
   "id": "d8afbfb1",
   "metadata": {},
   "outputs": [
    {
     "data": {
      "text/plain": [
       "('Chances for getting admission in 1st cut-off is 22.64391390691858 %',\n",
       " 'Chances for getting admission in 2nd cut-off is 68.23936225902378 %',\n",
       " 'Chances for getting admission in 3rd cut-off is 93.45419329630239 %')"
      ]
     },
     "execution_count": 42,
     "metadata": {},
     "output_type": "execute_result"
    }
   ],
   "source": [
    "predict_admission('KC','Open',84)"
   ]
  },
  {
   "cell_type": "code",
   "execution_count": 43,
   "id": "1956458e",
   "metadata": {},
   "outputs": [
    {
     "data": {
      "text/plain": [
       "('Chances for getting admission in 1st cut-off is 81.23383093358655 %',\n",
       " 'Chances for getting admission in 2nd cut-off is 94.19285222033376 %',\n",
       " 'Chances for getting admission in 3rd cut-off is 98.59282310864825 %')"
      ]
     },
     "execution_count": 43,
     "metadata": {},
     "output_type": "execute_result"
    }
   ],
   "source": [
    "predict_admission('D.G.Ruparel','Open',84)"
   ]
  },
  {
   "cell_type": "code",
   "execution_count": 44,
   "id": "04237b64",
   "metadata": {},
   "outputs": [
    {
     "data": {
      "text/plain": [
       "('Chances for getting admission in 1st cut-off is 65.61677942403483 %',\n",
       " 'Chances for getting admission in 2nd cut-off is 89.64096652824567 %',\n",
       " 'Chances for getting admission in 3rd cut-off is 96.96265838006748 %')"
      ]
     },
     "execution_count": 44,
     "metadata": {},
     "output_type": "execute_result"
    }
   ],
   "source": [
    "predict_admission('Hinduja','Open',84)"
   ]
  },
  {
   "cell_type": "code",
   "execution_count": 45,
   "id": "95e3661e",
   "metadata": {},
   "outputs": [],
   "source": [
    "import pickle"
   ]
  },
  {
   "cell_type": "code",
   "execution_count": 46,
   "id": "1fd789d8",
   "metadata": {},
   "outputs": [],
   "source": [
    "pickle.dump(pipe1,open('pipe1.pkl','wb'))\n",
    "pickle.dump(pipe2,open('pipe2.pkl','wb'))\n",
    "pickle.dump(pipe3,open('pipe3.pkl','wb'))"
   ]
  },
  {
   "cell_type": "code",
   "execution_count": null,
   "id": "af4b283d",
   "metadata": {},
   "outputs": [],
   "source": [
    "df['caste'].unique()"
   ]
  },
  {
   "cell_type": "code",
   "execution_count": null,
   "id": "5e5225ce",
   "metadata": {},
   "outputs": [],
   "source": [
    "df = pd.read_csv(\"5colleges.csv\")\n",
    "df.head()"
   ]
  },
  {
   "cell_type": "code",
   "execution_count": null,
   "id": "d6249aa2",
   "metadata": {},
   "outputs": [],
   "source": [
    "df.dropna(inplace=True)"
   ]
  },
  {
   "cell_type": "code",
   "execution_count": null,
   "id": "0f8f804b",
   "metadata": {},
   "outputs": [],
   "source": [
    "df['cutoff'] = df['cutoff'].astype(int)"
   ]
  },
  {
   "cell_type": "code",
   "execution_count": null,
   "id": "bc94b605",
   "metadata": {},
   "outputs": [],
   "source": [
    "df"
   ]
  },
  {
   "cell_type": "code",
   "execution_count": null,
   "id": "fc87b766",
   "metadata": {},
   "outputs": [],
   "source": [
    "import matplotlib.pyplot as plt\n",
    "import seaborn as sns"
   ]
  },
  {
   "cell_type": "code",
   "execution_count": null,
   "id": "2b6b3cb5",
   "metadata": {},
   "outputs": [],
   "source": [
    "new_df = df[df['College']=='Wilson']\n",
    "new_df = new_df[new_df['year']==2021]\n",
    "new_df = new_df[new_df['College']=='Wilson']\n",
    "new_df.dropna(inplace=True)\n",
    "new_df['cutoff'] = df['cutoff'].astype(int)"
   ]
  },
  {
   "cell_type": "code",
   "execution_count": null,
   "id": "fbe15b67",
   "metadata": {},
   "outputs": [],
   "source": [
    "new_df = df[df['year']==2021]\n",
    "new_df = new_df[new_df['College']=='Wilson']\n",
    "new_df.dropna(inplace=True)\n",
    "new_df['cutoff'] = new_df['cutoff'].astype(int)\n",
    "max_df = new_df.groupby(['caste','list']).max()['cutoff']\n",
    "min_df = new_df.groupby(['caste','list']).min()['cutoff']"
   ]
  },
  {
   "cell_type": "code",
   "execution_count": null,
   "id": "e823bb3b",
   "metadata": {},
   "outputs": [],
   "source": [
    "max_df"
   ]
  },
  {
   "cell_type": "code",
   "execution_count": null,
   "id": "735749c2",
   "metadata": {},
   "outputs": [],
   "source": [
    "min_df"
   ]
  },
  {
   "cell_type": "code",
   "execution_count": null,
   "id": "cceb7676",
   "metadata": {},
   "outputs": [],
   "source": [
    "def graph_plot(year):\n",
    "    new_df = df[df['year']==year]\n",
    "    new_df.dropna(inplace=True)\n",
    "    new_df['cutoff'] = df['cutoff'].astype(int)\n",
    "    graph_df = new_df.groupby(['caste','list']).max()['cutoff'].reset_index()\n",
    "    fig, ax = plt.subplots(figsize=(15, 10))\n",
    "    sns.set_palette('Blues')\n",
    "    d = sns.barplot(x='caste',y='cutoff',data=graph_df,hue='list',ax=ax)"
   ]
  },
  {
   "cell_type": "code",
   "execution_count": null,
   "id": "d0e9f4cb",
   "metadata": {},
   "outputs": [],
   "source": [
    "graph_plot(2021)"
   ]
  },
  {
   "cell_type": "code",
   "execution_count": null,
   "id": "77b50f31",
   "metadata": {},
   "outputs": [],
   "source": [
    "to_df = df[df['year']==2021]\n",
    "to_df"
   ]
  },
  {
   "cell_type": "code",
   "execution_count": null,
   "id": "571d6828",
   "metadata": {},
   "outputs": [],
   "source": [
    "x2021 = to_df.groupby(['caste','list']).max()['cutoff'].reset_index()\n",
    "x2021"
   ]
  },
  {
   "cell_type": "code",
   "execution_count": null,
   "id": "65797735",
   "metadata": {},
   "outputs": [],
   "source": [
    "import matplotlib.pyplot as plt\n",
    "import seaborn as sns"
   ]
  },
  {
   "cell_type": "code",
   "execution_count": null,
   "id": "4f85cc83",
   "metadata": {},
   "outputs": [],
   "source": [
    "def show_values(axs, orient=\"v\", space=.01):\n",
    "    def _single(ax):\n",
    "        if orient == \"v\":\n",
    "            for p in ax.patches:\n",
    "                _x = p.get_x() + p.get_width() / 2\n",
    "                _y = p.get_y() + p.get_height() + (p.get_height()*0.01)\n",
    "                value = '{:.1f}'.format(p.get_height())\n",
    "                ax.text(_x, _y, value, ha=\"center\") \n",
    "        elif orient == \"h\":\n",
    "            for p in ax.patches:\n",
    "                _x = p.get_x() + p.get_width() + float(space)\n",
    "                _y = p.get_y() + p.get_height() - (p.get_height()*0.5)\n",
    "                value = '{:.1f}'.format(p.get_width())\n",
    "                ax.text(_x, _y, value, ha=\"left\")\n",
    "\n",
    "    if isinstance(axs, np.ndarray):\n",
    "        for idx, ax in np.ndenumerate(axs):\n",
    "            _single(ax)\n",
    "    else:\n",
    "        _single(axs)"
   ]
  },
  {
   "cell_type": "code",
   "execution_count": null,
   "id": "2baf5ced",
   "metadata": {},
   "outputs": [],
   "source": []
  }
 ],
 "metadata": {
  "kernelspec": {
   "display_name": "Python 3",
   "language": "python",
   "name": "python3"
  },
  "language_info": {
   "codemirror_mode": {
    "name": "ipython",
    "version": 3
   },
   "file_extension": ".py",
   "mimetype": "text/x-python",
   "name": "python",
   "nbconvert_exporter": "python",
   "pygments_lexer": "ipython3",
   "version": "3.8.8"
  }
 },
 "nbformat": 4,
 "nbformat_minor": 5
}
